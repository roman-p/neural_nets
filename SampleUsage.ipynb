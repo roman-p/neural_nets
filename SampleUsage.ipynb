{
 "cells": [
  {
   "cell_type": "code",
   "execution_count": 15,
   "metadata": {},
   "outputs": [],
   "source": [
    "#Initialize the inputs \n",
    "\n",
    "import numpy as np\n",
    "import matplotlib.pyplot as plot\n",
    "\n",
    "X = np.array(([2, 8],[3, 7],[10, 5]), dtype=float)\n",
    "y = np.array(([18], [29], [95]), dtype=float)\n",
    "X = X / np.amax(X, axis=0)\n",
    "y = y / 100"
   ]
  },
  {
   "cell_type": "markdown",
   "metadata": {},
   "source": [
    "Initialize the NN. Run forward propagation with random weights"
   ]
  },
  {
   "cell_type": "code",
   "execution_count": 16,
   "metadata": {},
   "outputs": [
    {
     "data": {
      "text/plain": [
       "array([[ 0.41942265],\n",
       "       [ 0.40098573],\n",
       "       [ 0.31551426]])"
      ]
     },
     "execution_count": 16,
     "metadata": {},
     "output_type": "execute_result"
    }
   ],
   "source": [
    "from neural_network import NeuralNetwork \n",
    "nn = NeuralNetwork(\n",
    "        input_layer_size=2,\n",
    "        hidden_layer_size=3,\n",
    "        output_layer_size=1)\n",
    "yHat = nn.forward(X)\n",
    "yHat"
   ]
  },
  {
   "cell_type": "code",
   "execution_count": 17,
   "metadata": {},
   "outputs": [
    {
     "data": {
      "text/plain": [
       "array([[-1.36354624,  1.92104696, -0.26011507],\n",
       "       [ 3.08656757,  0.21594842,  0.616353  ]])"
      ]
     },
     "execution_count": 17,
     "metadata": {},
     "output_type": "execute_result"
    }
   ],
   "source": [
    "nn.weights_1"
   ]
  },
  {
   "cell_type": "code",
   "execution_count": 18,
   "metadata": {},
   "outputs": [
    {
     "data": {
      "text/plain": [
       "array([[ -7.05808470e-04],\n",
       "       [ -1.44525624e+00],\n",
       "       [  9.54913029e-01]])"
      ]
     },
     "execution_count": 18,
     "metadata": {},
     "output_type": "execute_result"
    }
   ],
   "source": [
    "nn.weights_2"
   ]
  },
  {
   "cell_type": "code",
   "execution_count": 19,
   "metadata": {},
   "outputs": [
    {
     "data": {
      "text/plain": [
       "array([[ 0.41942265],\n",
       "       [ 0.40098573],\n",
       "       [ 0.31551426]])"
      ]
     },
     "execution_count": 19,
     "metadata": {},
     "output_type": "execute_result"
    }
   ],
   "source": [
    "nn.yHat"
   ]
  },
  {
   "cell_type": "code",
   "execution_count": 20,
   "metadata": {},
   "outputs": [
    {
     "data": {
      "text/plain": [
       "array([[ 0.18],\n",
       "       [ 0.29],\n",
       "       [ 0.95]])"
      ]
     },
     "execution_count": 20,
     "metadata": {},
     "output_type": "execute_result"
    }
   ],
   "source": [
    "y"
   ]
  },
  {
   "cell_type": "code",
   "execution_count": 21,
   "metadata": {},
   "outputs": [
    {
     "data": {
      "text/plain": [
       "array([[ 0.41942265],\n",
       "       [ 0.40098573],\n",
       "       [ 0.31551426]])"
      ]
     },
     "execution_count": 21,
     "metadata": {},
     "output_type": "execute_result"
    }
   ],
   "source": [
    "nn.eval_function(np.dot(nn.hidden_layer, nn.weights_2))"
   ]
  },
  {
   "cell_type": "code",
   "execution_count": 22,
   "metadata": {},
   "outputs": [],
   "source": [
    "delta3 = np.multiply(-(y-nn.yHat), nn.eval_prime_function(nn.z3))"
   ]
  },
  {
   "cell_type": "code",
   "execution_count": 23,
   "metadata": {},
   "outputs": [
    {
     "data": {
      "text/plain": [
       "array([[-0.00817388],\n",
       "       [-0.06564273],\n",
       "       [-0.01927918]])"
      ]
     },
     "execution_count": 23,
     "metadata": {},
     "output_type": "execute_result"
    }
   ],
   "source": [
    "dJdW2 = np.dot(nn.hidden_layer.T, delta3)\n",
    "dJdW2"
   ]
  },
  {
   "cell_type": "code",
   "execution_count": 24,
   "metadata": {},
   "outputs": [
    {
     "data": {
      "text/plain": [
       "array([ 0.23610659])"
      ]
     },
     "execution_count": 24,
     "metadata": {},
     "output_type": "execute_result"
    }
   ],
   "source": [
    "cost1 = nn.cost(X, y)\n",
    "cost1"
   ]
  },
  {
   "cell_type": "code",
   "execution_count": 25,
   "metadata": {},
   "outputs": [],
   "source": [
    "scalar = 3.\n",
    "dJdW1, dJdW2 = nn.cost_function_prime(X,y)\n",
    "nn.weights_1 = nn.weights_1 - (dJdW1 * scalar )\n",
    "nn.weights_2 = nn.weights_2 - (dJdW2 * scalar )\n",
    "cost2 = nn.cost(X,y)"
   ]
  },
  {
   "cell_type": "code",
   "execution_count": 26,
   "metadata": {},
   "outputs": [
    {
     "data": {
      "text/plain": [
       "(array([ 0.23610659]), array([ 0.22078652]))"
      ]
     },
     "execution_count": 26,
     "metadata": {},
     "output_type": "execute_result"
    }
   ],
   "source": [
    "cost1, cost2"
   ]
  },
  {
   "cell_type": "markdown",
   "metadata": {
    "collapsed": true
   },
   "source": [
    "Check correctness of numerical gradient computation by using the definition of a derivative"
   ]
  },
  {
   "cell_type": "code",
   "execution_count": 41,
   "metadata": {},
   "outputs": [],
   "source": [
    "def compute_num_gradient(N, X, y):\n",
    "    initial_weights = N.get_weights()\n",
    "    numerical_gradient = np.zeros(initial_weights.shape)\n",
    "    perturb = np.zeros(initial_weights.shape)\n",
    "    e = 1e-4\n",
    "    for p in xrange(len(initial_weights)):\n",
    "        perturb[p] = e\n",
    "        N.set_weights(initial_weights + perturb)\n",
    "        loss1 = N.cost(X, y)\n",
    "        \n",
    "        N.set_weights(initial_weights - perturb)\n",
    "        loss2 = N.cost(X, y)\n",
    "        \n",
    "        numerical_gradient[p] = (loss1 - loss2) / (2*e)\n",
    "        \n",
    "        perturb[p] = 0\n",
    "\n",
    "    N.set_weights(initial_weights)\n",
    "    \n",
    "    return numerical_gradient"
   ]
  },
  {
   "cell_type": "code",
   "execution_count": 43,
   "metadata": {},
   "outputs": [],
   "source": [
    "implemented_gradient = nn.compute_gradients(X, y)\n",
    "computed_gradient = compute_num_gradient(nn, X, y)\n"
   ]
  },
  {
   "cell_type": "code",
   "execution_count": 44,
   "metadata": {},
   "outputs": [
    {
     "data": {
      "text/plain": [
       "array([-0.00070231,  0.01001007, -0.02774131, -0.00030685, -0.01845063,\n",
       "        0.00346742,  0.01608275, -0.04648219, -0.00501051])"
      ]
     },
     "execution_count": 44,
     "metadata": {},
     "output_type": "execute_result"
    }
   ],
   "source": [
    "implemented_gradient"
   ]
  },
  {
   "cell_type": "code",
   "execution_count": 45,
   "metadata": {},
   "outputs": [
    {
     "data": {
      "text/plain": [
       "array([-0.00070231,  0.01001007, -0.02774131, -0.00030685, -0.01845063,\n",
       "        0.00346742,  0.01608275, -0.04648219, -0.00501051])"
      ]
     },
     "execution_count": 45,
     "metadata": {},
     "output_type": "execute_result"
    }
   ],
   "source": [
    "computed_gradient"
   ]
  },
  {
   "cell_type": "code",
   "execution_count": 46,
   "metadata": {},
   "outputs": [
    {
     "data": {
      "text/plain": [
       "9.0001062334594387e-10"
      ]
     },
     "execution_count": 46,
     "metadata": {},
     "output_type": "execute_result"
    }
   ],
   "source": [
    "#check that difference is small\n",
    "np.linalg.norm(implemented_gradient - computed_gradient) / np.linalg.norm(implemented_gradient + computed_gradient)"
   ]
  },
  {
   "cell_type": "code",
   "execution_count": null,
   "metadata": {},
   "outputs": [],
   "source": []
  }
 ],
 "metadata": {
  "kernelspec": {
   "display_name": "Python 2",
   "language": "python",
   "name": "python2"
  },
  "language_info": {
   "codemirror_mode": {
    "name": "ipython",
    "version": 2
   },
   "file_extension": ".py",
   "mimetype": "text/x-python",
   "name": "python",
   "nbconvert_exporter": "python",
   "pygments_lexer": "ipython2",
   "version": "2.7.10"
  }
 },
 "nbformat": 4,
 "nbformat_minor": 2
}
