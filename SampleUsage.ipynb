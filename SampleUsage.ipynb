{
 "cells": [
  {
   "cell_type": "code",
   "execution_count": 1,
   "metadata": {},
   "outputs": [],
   "source": [
    "#Initialize the inputs \n",
    "\n",
    "import numpy as np\n",
    "import matplotlib.pyplot as plot\n",
    "\n",
    "X = np.array(([2, 8],[3, 7],[10, 5]), dtype=float)\n",
    "y = np.array(([18], [29], [95]), dtype=float)\n",
    "X = X / np.amax(X, axis=0)\n",
    "y = y / 100"
   ]
  },
  {
   "cell_type": "markdown",
   "metadata": {},
   "source": [
    "Initialize the NN. Run forward propagation with random weights"
   ]
  },
  {
   "cell_type": "code",
   "execution_count": 2,
   "metadata": {},
   "outputs": [
    {
     "data": {
      "text/plain": [
       "array([[ 0.43000372],\n",
       "       [ 0.43782683],\n",
       "       [ 0.49521224]])"
      ]
     },
     "execution_count": 2,
     "metadata": {},
     "output_type": "execute_result"
    }
   ],
   "source": [
    "from neural_network import NeuralNetwork \n",
    "nn = NeuralNetwork(\n",
    "        input_layer_size=2,\n",
    "        hidden_layer_size=3,\n",
    "        output_layer_size=1)\n",
    "yHat = nn.forward(X)\n",
    "yHat"
   ]
  },
  {
   "cell_type": "code",
   "execution_count": 3,
   "metadata": {},
   "outputs": [
    {
     "data": {
      "text/plain": [
       "array([[-1.35298882, -2.58350412, -0.52468069],\n",
       "       [ 0.10281929,  2.72918547, -0.95628327]])"
      ]
     },
     "execution_count": 3,
     "metadata": {},
     "output_type": "execute_result"
    }
   ],
   "source": [
    "nn.weights_1"
   ]
  },
  {
   "cell_type": "code",
   "execution_count": 4,
   "metadata": {},
   "outputs": [
    {
     "data": {
      "text/plain": [
       "array([[ 0.24301104],\n",
       "       [-0.53564556],\n",
       "       [ 0.34868944]])"
      ]
     },
     "execution_count": 4,
     "metadata": {},
     "output_type": "execute_result"
    }
   ],
   "source": [
    "nn.weights_2"
   ]
  },
  {
   "cell_type": "code",
   "execution_count": 5,
   "metadata": {},
   "outputs": [
    {
     "data": {
      "text/plain": [
       "array([[ 0.43000372],\n",
       "       [ 0.43782683],\n",
       "       [ 0.49521224]])"
      ]
     },
     "execution_count": 5,
     "metadata": {},
     "output_type": "execute_result"
    }
   ],
   "source": [
    "nn.yHat"
   ]
  },
  {
   "cell_type": "code",
   "execution_count": 6,
   "metadata": {},
   "outputs": [
    {
     "data": {
      "text/plain": [
       "array([[ 0.18],\n",
       "       [ 0.29],\n",
       "       [ 0.95]])"
      ]
     },
     "execution_count": 6,
     "metadata": {},
     "output_type": "execute_result"
    }
   ],
   "source": [
    "y"
   ]
  },
  {
   "cell_type": "code",
   "execution_count": 7,
   "metadata": {},
   "outputs": [
    {
     "data": {
      "text/plain": [
       "array([[ 0.43000372],\n",
       "       [ 0.43782683],\n",
       "       [ 0.49521224]])"
      ]
     },
     "execution_count": 7,
     "metadata": {},
     "output_type": "execute_result"
    }
   ],
   "source": [
    "nn.eval_function(np.dot(nn.hidden_layer, nn.weights_2))"
   ]
  },
  {
   "cell_type": "code",
   "execution_count": 8,
   "metadata": {},
   "outputs": [],
   "source": [
    "delta3 = np.multiply(-(y-nn.yHat), nn.eval_prime_function(nn.z3))"
   ]
  },
  {
   "cell_type": "code",
   "execution_count": 9,
   "metadata": {},
   "outputs": [
    {
     "data": {
      "text/plain": [
       "array([[ 0.01885228],\n",
       "       [ 0.05218798],\n",
       "       [-0.00233845]])"
      ]
     },
     "execution_count": 9,
     "metadata": {},
     "output_type": "execute_result"
    }
   ],
   "source": [
    "dJdW2 = np.dot(nn.hidden_layer.T, delta3)\n",
    "dJdW2"
   ]
  },
  {
   "cell_type": "code",
   "execution_count": 10,
   "metadata": {},
   "outputs": [
    {
     "data": {
      "text/plain": [
       "array([ 0.14559327])"
      ]
     },
     "execution_count": 10,
     "metadata": {},
     "output_type": "execute_result"
    }
   ],
   "source": [
    "cost1 = nn.cost(X, y)\n",
    "cost1"
   ]
  },
  {
   "cell_type": "code",
   "execution_count": 11,
   "metadata": {},
   "outputs": [],
   "source": [
    "scalar = 3.\n",
    "dJdW1, dJdW2 = nn.cost_function_prime(X,y)\n",
    "nn.weights_1 = nn.weights_1 - (dJdW1 * scalar )\n",
    "nn.weights_2 = nn.weights_2 - (dJdW2 * scalar )\n",
    "cost2 = nn.cost(X,y)"
   ]
  },
  {
   "cell_type": "code",
   "execution_count": 12,
   "metadata": {},
   "outputs": [
    {
     "data": {
      "text/plain": [
       "(array([ 0.14559327]), array([ 0.13741903]))"
      ]
     },
     "execution_count": 12,
     "metadata": {},
     "output_type": "execute_result"
    }
   ],
   "source": [
    "cost1, cost2"
   ]
  },
  {
   "cell_type": "markdown",
   "metadata": {
    "collapsed": true
   },
   "source": [
    "Check correctness of numerical gradient computation by using the definition of a derivative"
   ]
  },
  {
   "cell_type": "code",
   "execution_count": 13,
   "metadata": {},
   "outputs": [],
   "source": [
    "def compute_num_gradient(N, X, y):\n",
    "    initial_weights = N.get_weights()\n",
    "    numerical_gradient = np.zeros(initial_weights.shape)\n",
    "    perturb = np.zeros(initial_weights.shape)\n",
    "    e = 1e-4\n",
    "    for p in xrange(len(initial_weights)):\n",
    "        perturb[p] = e\n",
    "        N.set_weights(initial_weights + perturb)\n",
    "        loss1 = N.cost(X, y)\n",
    "        \n",
    "        N.set_weights(initial_weights - perturb)\n",
    "        loss2 = N.cost(X, y)\n",
    "        \n",
    "        numerical_gradient[p] = (loss1 - loss2) / (2*e)\n",
    "        \n",
    "        perturb[p] = 0\n",
    "\n",
    "    N.set_weights(initial_weights)\n",
    "    \n",
    "    return numerical_gradient"
   ]
  },
  {
   "cell_type": "code",
   "execution_count": 14,
   "metadata": {},
   "outputs": [],
   "source": [
    "implemented_gradient = nn.compute_gradients(X, y)\n",
    "computed_gradient = compute_num_gradient(nn, X, y)\n"
   ]
  },
  {
   "cell_type": "code",
   "execution_count": 15,
   "metadata": {},
   "outputs": [
    {
     "data": {
      "text/plain": [
       "array([-0.00286857,  0.01508232, -0.00650375,  0.00106517,  0.00492234,\n",
       "        0.00019254,  0.00875678,  0.03386476, -0.00890727])"
      ]
     },
     "execution_count": 15,
     "metadata": {},
     "output_type": "execute_result"
    }
   ],
   "source": [
    "implemented_gradient"
   ]
  },
  {
   "cell_type": "code",
   "execution_count": 16,
   "metadata": {},
   "outputs": [
    {
     "data": {
      "text/plain": [
       "array([-0.00286857,  0.01508232, -0.00650375,  0.00106517,  0.00492234,\n",
       "        0.00019254,  0.00875678,  0.03386476, -0.00890727])"
      ]
     },
     "execution_count": 16,
     "metadata": {},
     "output_type": "execute_result"
    }
   ],
   "source": [
    "computed_gradient"
   ]
  },
  {
   "cell_type": "code",
   "execution_count": 17,
   "metadata": {},
   "outputs": [
    {
     "data": {
      "text/plain": [
       "5.5996902901600569e-10"
      ]
     },
     "execution_count": 17,
     "metadata": {},
     "output_type": "execute_result"
    }
   ],
   "source": [
    "#check that difference is small\n",
    "np.linalg.norm(implemented_gradient - computed_gradient) / np.linalg.norm(implemented_gradient + computed_gradient)"
   ]
  },
  {
   "cell_type": "code",
   "execution_count": 18,
   "metadata": {},
   "outputs": [
    {
     "name": "stdout",
     "output_type": "stream",
     "text": [
      "Optimization terminated successfully.\n",
      "         Current function value: 0.000000\n",
      "         Iterations: 53\n",
      "         Function evaluations: 63\n",
      "         Gradient evaluations: 63\n"
     ]
    }
   ],
   "source": [
    "nn.train(X, y)"
   ]
  }
 ],
 "metadata": {
  "kernelspec": {
   "display_name": "Python 2",
   "language": "python",
   "name": "python2"
  },
  "language_info": {
   "codemirror_mode": {
    "name": "ipython",
    "version": 2
   },
   "file_extension": ".py",
   "mimetype": "text/x-python",
   "name": "python",
   "nbconvert_exporter": "python",
   "pygments_lexer": "ipython2",
   "version": "2.7.10"
  }
 },
 "nbformat": 4,
 "nbformat_minor": 2
}
